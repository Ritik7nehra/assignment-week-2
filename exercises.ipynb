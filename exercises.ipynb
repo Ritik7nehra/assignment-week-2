{
 "cells": [
  {
   "cell_type": "markdown",
   "id": "6cf1aed9",
   "metadata": {},
   "source": [
    "<font color='darkred'> Unless otherwise noted, **this notebook will not be reviewed or autograded.**</font> You are welcome to use it for scratchwork, but **only the files listed in the exercises will be checked.**\n",
    "\n",
    "---\n",
    "\n",
    "# Exercises\n",
    "\n",
    "For these exercises, add your functions to the *apputil\\.py* file. If you like, you're welcome to adjust the *app\\.py* file, but it is not required.\n",
    "\n",
    "## Exercise 1\n",
    "\n",
    "Given enough pennies (1 cent) and nickels (5 cents), write a function `ways(n)` which calculates the number of ways you can make change for a given amount of cents `n`. The function should return the number of ways to yield `n` cents using only pennies and nickels.\n",
    "\n",
    "**Test Cases:**\n",
    "\n",
    "```python\n",
    "function   --->      (num pennies, num nickels)\n",
    "    \n",
    "ways(12)   ---> 3    [(2, 2), (7, 1), (12, 0)]               \n",
    "ways(20)   ---> 5    [(0, 4), (5, 3), (10, 2), (15, 1), (20, 0)]\n",
    "ways(3)    ---> 1    [(3, 0)]\n",
    "ways(0)    ---> 1    [(0, 0)]\n",
    "```\n",
    "\n",
    "*Note: the autograder will be checking only for the function to return the **number** of ways. The items listed to the right, above, are for reference only.*"
   ]
  },
  {
   "cell_type": "markdown",
   "id": "a067cdd5",
   "metadata": {
    "vscode": {
     "languageId": "plaintext"
    }
   },
   "source": [
    "### optional variation\n",
    "\n",
    "Update your `ways` function to incorporate an *arbitrary* set of coin values. I.e., your function should now look something like this:\n",
    "\n",
    "```python\n",
    "def ways(cents, coin_types=[1, 5]):\n",
    "    # code code ...\n",
    "\n",
    ">>> ways(100, [25, 10, 5, 1])\n",
    ">>> 242\n",
    "```\n"
   ]
  },
  {
   "cell_type": "code",
   "execution_count": 1,
   "id": "ae5247e1",
   "metadata": {},
   "outputs": [
    {
     "name": "stdout",
     "output_type": "stream",
     "text": [
      "2\n",
      "3\n",
      "1\n",
      "1\n"
     ]
    }
   ],
   "source": [
    "def ways(cents, coin_types=[1, 5]):\n",
    "# Initialize a DP table where dp[i] represents\n",
    "    # the number of ways to make change for amount i\n",
    "    dp = [0] * (cents + 1)\n",
    "    dp[0] = 1  # Base case: one way to make change for 0 cents\n",
    "\n",
    "    # For each coin, update the number of ways for each amount\n",
    "    for coin in coin_types:\n",
    "        for amount in range(coin, cents + 1):\n",
    "            dp[amount] += dp[amount - coin]  \n",
    "            # Explanation:\n",
    "            # dp[amount - coin] represents the number of ways \n",
    "            # to make (amount - coin), so we add it to dp[amount]\n",
    "\n",
    "    return dp[cents]\n",
    "\n",
    "# test with testcases provided in the prompt\n",
    "print(ways(6))  # Expected output: 2\n",
    "# try with some additional testcases\n",
    "print(ways(10))  # Expected output: 4 (1x10, 2x5, 1x5+5x1, 10x1)\n",
    "print(ways(0))   # Expected output: 1 (one way to make 0 cents)\n",
    "print(ways(1))   # Expected output: 1 (1x1)"
   ]
  },
  {
   "cell_type": "markdown",
   "id": "28682d59",
   "metadata": {},
   "source": [
    "## Exercise 2\n",
    "\n",
    "Suppose we have student `names`, and test `scores` for each student, respectively. For example, we could have:\n",
    "\n",
    "```python\n",
    "names = np.array(['Hannah', 'Astrid', 'Abdul', 'Mauve', 'Jung'])\n",
    "scores = np.array([99, 71, 85, 62, 91])\n",
    "```\n",
    "\n",
    "### part 1\n",
    "\n",
    "Use NumPy to write a function `lowest_score(names, scores)` that returns the `name` of the student with the lowest `score`.\n",
    "\n",
    "> Hint: take a look at the [argmin](https://numpy.org/doc/stable/reference/generated/numpy.argmin.html) function.\n",
    "\n",
    "### part 2\n",
    "\n",
    "Write a similar function `sort_names(names, scores)` that will list the names of students in *descending* order of test score (i.e., a list of names, with associated scores in order from highest to lowest)."
   ]
  },
  {
   "cell_type": "code",
   "execution_count": 3,
   "id": "8d78555f",
   "metadata": {},
   "outputs": [
    {
     "name": "stdout",
     "output_type": "stream",
     "text": [
      "Lowest score student: Mauve\n",
      "Names sorted by scores: ['Hannah' 'Jung' 'Abdul' 'Astrid' 'Mauve']\n"
     ]
    }
   ],
   "source": [
    "import numpy as np\n",
    "\n",
    "def lowest_score(names, scores):\n",
    "    # Find the index of the minimum score\n",
    "    idx = np.argmin(scores)\n",
    "    # Return the corresponding student name\n",
    "    return names[idx]\n",
    "\n",
    "\n",
    "def sort_names(names, scores):\n",
    "    # Get indices that would sort the scores in descending order\n",
    "    sorted_idx = np.argsort(scores)[::-1]\n",
    "    # Reorder names based on those indices\n",
    "    return names[sorted_idx]\n",
    "\n",
    "\n",
    "# Example usage\n",
    "if __name__ == \"__main__\":\n",
    "    names = np.array(['Hannah', 'Astrid', 'Abdul', 'Mauve', 'Jung'])\n",
    "    scores = np.array([99, 71, 85, 62, 91])\n",
    "\n",
    "    print(\"Lowest score student:\", lowest_score(names, scores))\n",
    "    print(\"Names sorted by scores:\", sort_names(names, scores))\n",
    "\n",
    "    # test with testcases provided in the prompt --- IGNORE --- \n",
    "    assert lowest_score(names, scores) == 'Mauve'  \n",
    "    assert np.array_equal(sort_names(names, scores), \n",
    "                          np.array(['Hannah', 'Jung', 'Abdul', 'Astrid', 'Mauve']))\n",
    "    "
   ]
  }
 ],
 "metadata": {
  "kernelspec": {
   "display_name": "base",
   "language": "python",
   "name": "python3"
  },
  "language_info": {
   "codemirror_mode": {
    "name": "ipython",
    "version": 3
   },
   "file_extension": ".py",
   "mimetype": "text/x-python",
   "name": "python",
   "nbconvert_exporter": "python",
   "pygments_lexer": "ipython3",
   "version": "3.11.13"
  }
 },
 "nbformat": 4,
 "nbformat_minor": 5
}
